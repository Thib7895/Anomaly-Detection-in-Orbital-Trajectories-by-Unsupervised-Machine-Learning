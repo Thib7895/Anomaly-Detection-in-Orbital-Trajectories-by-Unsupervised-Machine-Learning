{
 "cells": [
  {
   "cell_type": "code",
   "execution_count": 4,
   "id": "985e5dab",
   "metadata": {},
   "outputs": [
    {
     "name": "stdout",
     "output_type": "stream",
     "text": [
      "Début du processus de téléchargement...\n",
      "\n",
      "[+] Traitement de : STARLINK-3874 (NORAD ID: 52365)\n",
      "[✔] Succès ! 1556 lignes de données sauvegardées dans 'STARLINK-3874_52365_data.csv'\n",
      "\n",
      "Processus de téléchargement terminé.\n"
     ]
    }
   ],
   "source": [
    "# Importation des bibliothèques nécessaires\n",
    "import pandas as pd\n",
    "from spacetrack import SpaceTrackClient\n",
    "from io import StringIO\n",
    "\n",
    "# --- PARAMÈTRES À CONFIGURER ---\n",
    "\n",
    "# 1. Vos identifiants pour Space-Track.org\n",
    "SPACETRACK_IDENTITY = # REMPLACEZ CECI\n",
    "SPACETRACK_PASSWORD = # REMPLACEZ CECI\n",
    "\n",
    "# 2. Le débris à étudier\n",
    "OBJECT_A_ETUDIER = {\n",
    "    \"STARLINK-3874\": 52365,      \n",
    "}\n",
    "\n",
    "# 3. La période d'étude (2 ans)\n",
    "DATE_DEBUT = \"2022-01-01\"\n",
    "DATE_FIN = \"2023-12-31\"\n",
    "\n",
    "\n",
    "# --- SCRIPT PRINCIPAL (version synchrone, plus simple) ---\n",
    "\n",
    "def telecharger_donnees_tle():\n",
    "    \"\"\"\n",
    "    Se connecte à Space-Track et télécharge l'historique TLE pour l'objet défini.\n",
    "    Sauvegarde le résultat dans un fichier CSV.\n",
    "    \"\"\"\n",
    "    print(\"Début du processus de téléchargement...\")\n",
    "\n",
    "    # Initialisation du client Space-Track de manière standard\n",
    "    st = SpaceTrackClient(identity=SPACETRACK_IDENTITY, password=SPACETRACK_PASSWORD)\n",
    "    \n",
    "    for nom_objet, norad_id in OBJECT_A_ETUDIER.items():\n",
    "        print(f\"\\n[+] Traitement de : {nom_objet} (NORAD ID: {norad_id})\")\n",
    "\n",
    "        try:\n",
    "            # Appel direct de la fonction, sans 'await'. \n",
    "            # Le script va attendre ici que le téléchargement soit fini.\n",
    "            data = st.tle(\n",
    "                norad_cat_id=norad_id,\n",
    "                orderby='epoch asc',\n",
    "                epoch=f'{DATE_DEBUT}--{DATE_FIN}',\n",
    "                format='csv'\n",
    "            )\n",
    "\n",
    "            if not data or isinstance(data, bytes) and not data.strip():\n",
    "                print(f\"[-] Aucune donnée trouvée pour {nom_objet} dans la période spécifiée.\")\n",
    "                continue\n",
    "\n",
    "            # Conversion des données CSV en DataFrame pandas\n",
    "            df = pd.read_csv(StringIO(data))\n",
    "\n",
    "            # Sauvegarde du DataFrame dans un fichier CSV\n",
    "            nom_fichier = f\"{nom_objet}_{norad_id}_data.csv\"\n",
    "            df.to_csv(nom_fichier, index=False)\n",
    "            \n",
    "            print(f\"[✔] Succès ! {len(df)} lignes de données sauvegardées dans '{nom_fichier}'\")\n",
    "\n",
    "        except Exception as e:\n",
    "            # Si une erreur se produit (ex: mot de passe incorrect), elle sera affichée ici.\n",
    "            print(f\"[✖] Erreur lors du téléchargement pour {nom_objet}: {e}\")\n",
    "\n",
    "    print(\"\\nProcessus de téléchargement terminé.\")\n",
    "\n",
    "\n",
    "# Lancement du script\n",
    "if __name__ == \"__main__\":\n",
    "    if \"VOTRE_EMAIL\" in SPACETRACK_IDENTITY or \"VOTRE_MOT_DE_PASSE\" in SPACETRACK_PASSWORD:\n",
    "        print(\"ERREUR : Veuillez remplacer 'VOTRE_EMAIL' et 'VOTRE_MOT_DE_PASSE' dans le script.\")\n",
    "    else:\n",
    "        telecharger_donnees_tle()"
   ]
  },
  {
   "cell_type": "code",
   "execution_count": null,
   "id": "b38b81ac",
   "metadata": {},
   "outputs": [],
   "source": []
  }
 ],
 "metadata": {
  "kernelspec": {
   "display_name": "Python 3 (ipykernel)",
   "language": "python",
   "name": "python3"
  },
  "language_info": {
   "codemirror_mode": {
    "name": "ipython",
    "version": 3
   },
   "file_extension": ".py",
   "mimetype": "text/x-python",
   "name": "python",
   "nbconvert_exporter": "python",
   "pygments_lexer": "ipython3",
   "version": "3.11.5"
  }
 },
 "nbformat": 4,
 "nbformat_minor": 5
}
